{
 "cells": [
  {
   "cell_type": "code",
   "execution_count": 1,
   "id": "1388c3e2-d7c2-4622-b9ab-10f9454da3bc",
   "metadata": {},
   "outputs": [],
   "source": [
    "import pandas as pd\n",
    "import numpy as np\n",
    "import matplotlib.pyplot as plt"
   ]
  },
  {
   "cell_type": "code",
   "execution_count": 2,
   "id": "bbe17e4e-23d2-48eb-827f-127aa05b15fc",
   "metadata": {},
   "outputs": [],
   "source": [
    "df_gme=pd.read_csv(\"GME_stock.csv\")\n",
    "df_spy=pd.read_csv(\"SPY.csv\")"
   ]
  },
  {
   "cell_type": "code",
   "execution_count": 3,
   "id": "bb2e300d-f68f-407c-88c8-a89a4c45c822",
   "metadata": {},
   "outputs": [
    {
     "data": {
      "text/html": [
       "<div>\n",
       "<style scoped>\n",
       "    .dataframe tbody tr th:only-of-type {\n",
       "        vertical-align: middle;\n",
       "    }\n",
       "\n",
       "    .dataframe tbody tr th {\n",
       "        vertical-align: top;\n",
       "    }\n",
       "\n",
       "    .dataframe thead th {\n",
       "        text-align: right;\n",
       "    }\n",
       "</style>\n",
       "<table border=\"1\" class=\"dataframe\">\n",
       "  <thead>\n",
       "    <tr style=\"text-align: right;\">\n",
       "      <th></th>\n",
       "      <th>date</th>\n",
       "      <th>open_price</th>\n",
       "      <th>high_price</th>\n",
       "      <th>low_price</th>\n",
       "      <th>close_price</th>\n",
       "      <th>volume</th>\n",
       "      <th>adjclose_price</th>\n",
       "    </tr>\n",
       "  </thead>\n",
       "  <tbody>\n",
       "    <tr>\n",
       "      <th>0</th>\n",
       "      <td>2021-01-28</td>\n",
       "      <td>265.000000</td>\n",
       "      <td>483.000000</td>\n",
       "      <td>112.250000</td>\n",
       "      <td>193.600006</td>\n",
       "      <td>58815800.0</td>\n",
       "      <td>193.600006</td>\n",
       "    </tr>\n",
       "    <tr>\n",
       "      <th>1</th>\n",
       "      <td>2021-01-27</td>\n",
       "      <td>354.829987</td>\n",
       "      <td>380.000000</td>\n",
       "      <td>249.000000</td>\n",
       "      <td>347.510010</td>\n",
       "      <td>93396700.0</td>\n",
       "      <td>347.510010</td>\n",
       "    </tr>\n",
       "    <tr>\n",
       "      <th>2</th>\n",
       "      <td>2021-01-26</td>\n",
       "      <td>88.559998</td>\n",
       "      <td>150.000000</td>\n",
       "      <td>80.199997</td>\n",
       "      <td>147.979996</td>\n",
       "      <td>178588000.0</td>\n",
       "      <td>147.979996</td>\n",
       "    </tr>\n",
       "    <tr>\n",
       "      <th>3</th>\n",
       "      <td>2021-01-25</td>\n",
       "      <td>96.730003</td>\n",
       "      <td>159.179993</td>\n",
       "      <td>61.130001</td>\n",
       "      <td>76.790001</td>\n",
       "      <td>177874000.0</td>\n",
       "      <td>76.790001</td>\n",
       "    </tr>\n",
       "    <tr>\n",
       "      <th>4</th>\n",
       "      <td>2021-01-22</td>\n",
       "      <td>42.590000</td>\n",
       "      <td>76.760002</td>\n",
       "      <td>42.320000</td>\n",
       "      <td>65.010002</td>\n",
       "      <td>196784300.0</td>\n",
       "      <td>65.010002</td>\n",
       "    </tr>\n",
       "  </tbody>\n",
       "</table>\n",
       "</div>"
      ],
      "text/plain": [
       "         date  open_price  high_price   low_price  close_price       volume  \\\n",
       "0  2021-01-28  265.000000  483.000000  112.250000   193.600006   58815800.0   \n",
       "1  2021-01-27  354.829987  380.000000  249.000000   347.510010   93396700.0   \n",
       "2  2021-01-26   88.559998  150.000000   80.199997   147.979996  178588000.0   \n",
       "3  2021-01-25   96.730003  159.179993   61.130001    76.790001  177874000.0   \n",
       "4  2021-01-22   42.590000   76.760002   42.320000    65.010002  196784300.0   \n",
       "\n",
       "   adjclose_price  \n",
       "0      193.600006  \n",
       "1      347.510010  \n",
       "2      147.979996  \n",
       "3       76.790001  \n",
       "4       65.010002  "
      ]
     },
     "execution_count": 3,
     "metadata": {},
     "output_type": "execute_result"
    }
   ],
   "source": [
    "df_gme.head()"
   ]
  },
  {
   "cell_type": "code",
   "execution_count": 4,
   "id": "42992b0f-a18b-4577-8509-655bebe4196f",
   "metadata": {},
   "outputs": [
    {
     "data": {
      "text/html": [
       "<div>\n",
       "<style scoped>\n",
       "    .dataframe tbody tr th:only-of-type {\n",
       "        vertical-align: middle;\n",
       "    }\n",
       "\n",
       "    .dataframe tbody tr th {\n",
       "        vertical-align: top;\n",
       "    }\n",
       "\n",
       "    .dataframe thead th {\n",
       "        text-align: right;\n",
       "    }\n",
       "</style>\n",
       "<table border=\"1\" class=\"dataframe\">\n",
       "  <thead>\n",
       "    <tr style=\"text-align: right;\">\n",
       "      <th></th>\n",
       "      <th>Date</th>\n",
       "      <th>Open</th>\n",
       "      <th>High</th>\n",
       "      <th>Low</th>\n",
       "      <th>Close</th>\n",
       "      <th>Volume</th>\n",
       "      <th>Dividends</th>\n",
       "    </tr>\n",
       "  </thead>\n",
       "  <tbody>\n",
       "    <tr>\n",
       "      <th>0</th>\n",
       "      <td>2024-12-30 00:00:00-05:00</td>\n",
       "      <td>587.890015</td>\n",
       "      <td>587.979980</td>\n",
       "      <td>584.409973</td>\n",
       "      <td>586.250000</td>\n",
       "      <td>13201830</td>\n",
       "      <td>0.0</td>\n",
       "    </tr>\n",
       "    <tr>\n",
       "      <th>1</th>\n",
       "      <td>2024-12-27 00:00:00-05:00</td>\n",
       "      <td>597.539978</td>\n",
       "      <td>597.780029</td>\n",
       "      <td>590.760010</td>\n",
       "      <td>595.010010</td>\n",
       "      <td>64847900</td>\n",
       "      <td>0.0</td>\n",
       "    </tr>\n",
       "    <tr>\n",
       "      <th>2</th>\n",
       "      <td>2024-12-26 00:00:00-05:00</td>\n",
       "      <td>599.500000</td>\n",
       "      <td>602.479980</td>\n",
       "      <td>598.080017</td>\n",
       "      <td>601.340027</td>\n",
       "      <td>41219100</td>\n",
       "      <td>0.0</td>\n",
       "    </tr>\n",
       "    <tr>\n",
       "      <th>3</th>\n",
       "      <td>2024-12-24 00:00:00-05:00</td>\n",
       "      <td>596.059998</td>\n",
       "      <td>601.340027</td>\n",
       "      <td>595.469971</td>\n",
       "      <td>601.299988</td>\n",
       "      <td>33160100</td>\n",
       "      <td>0.0</td>\n",
       "    </tr>\n",
       "    <tr>\n",
       "      <th>4</th>\n",
       "      <td>2024-12-23 00:00:00-05:00</td>\n",
       "      <td>590.890015</td>\n",
       "      <td>595.299988</td>\n",
       "      <td>587.659973</td>\n",
       "      <td>594.690002</td>\n",
       "      <td>57635800</td>\n",
       "      <td>0.0</td>\n",
       "    </tr>\n",
       "  </tbody>\n",
       "</table>\n",
       "</div>"
      ],
      "text/plain": [
       "                        Date        Open        High         Low       Close  \\\n",
       "0  2024-12-30 00:00:00-05:00  587.890015  587.979980  584.409973  586.250000   \n",
       "1  2024-12-27 00:00:00-05:00  597.539978  597.780029  590.760010  595.010010   \n",
       "2  2024-12-26 00:00:00-05:00  599.500000  602.479980  598.080017  601.340027   \n",
       "3  2024-12-24 00:00:00-05:00  596.059998  601.340027  595.469971  601.299988   \n",
       "4  2024-12-23 00:00:00-05:00  590.890015  595.299988  587.659973  594.690002   \n",
       "\n",
       "     Volume  Dividends  \n",
       "0  13201830        0.0  \n",
       "1  64847900        0.0  \n",
       "2  41219100        0.0  \n",
       "3  33160100        0.0  \n",
       "4  57635800        0.0  "
      ]
     },
     "execution_count": 4,
     "metadata": {},
     "output_type": "execute_result"
    }
   ],
   "source": [
    "df_spy.head()"
   ]
  },
  {
   "cell_type": "code",
   "execution_count": 5,
   "id": "2f6dd280-c76b-47e0-a39a-7366597dba01",
   "metadata": {},
   "outputs": [
    {
     "data": {
      "text/plain": [
       "(4773, 7)"
      ]
     },
     "execution_count": 5,
     "metadata": {},
     "output_type": "execute_result"
    }
   ],
   "source": [
    "df_gme.shape"
   ]
  },
  {
   "cell_type": "code",
   "execution_count": 6,
   "id": "a53d9f69-0ef1-46f9-846e-849b5c601ecd",
   "metadata": {},
   "outputs": [
    {
     "data": {
      "text/plain": [
       "(8037, 7)"
      ]
     },
     "execution_count": 6,
     "metadata": {},
     "output_type": "execute_result"
    }
   ],
   "source": [
    "df_spy.shape"
   ]
  },
  {
   "cell_type": "code",
   "execution_count": 7,
   "id": "d3a37d78-a46e-4a3d-8e26-74ff0564901e",
   "metadata": {},
   "outputs": [
    {
     "data": {
      "text/plain": [
       "date              0\n",
       "open_price        0\n",
       "high_price        0\n",
       "low_price         0\n",
       "close_price       0\n",
       "volume            0\n",
       "adjclose_price    0\n",
       "dtype: int64"
      ]
     },
     "execution_count": 7,
     "metadata": {},
     "output_type": "execute_result"
    }
   ],
   "source": [
    "df_gme.isnull().sum()"
   ]
  },
  {
   "cell_type": "code",
   "execution_count": 8,
   "id": "8bea48ac-fd0c-4109-815d-98b39b78edc7",
   "metadata": {},
   "outputs": [
    {
     "data": {
      "text/plain": [
       "Date         0\n",
       "Open         0\n",
       "High         0\n",
       "Low          0\n",
       "Close        0\n",
       "Volume       0\n",
       "Dividends    0\n",
       "dtype: int64"
      ]
     },
     "execution_count": 8,
     "metadata": {},
     "output_type": "execute_result"
    }
   ],
   "source": [
    "df_spy.isnull().sum()"
   ]
  },
  {
   "cell_type": "code",
   "execution_count": 9,
   "id": "b6a97c9b-7403-4a3a-8e05-90bbd4b50a05",
   "metadata": {},
   "outputs": [],
   "source": [
    "df_gme[\"date\"]=pd.to_datetime(df_gme[\"date\"] ,utc=True)\n",
    "df_gme=df_gme.sort_values(\"date\").dropna()\n",
    "\n",
    "df_spy[\"Date\"]=pd.to_datetime(df_spy[\"Date\"] ,utc=True)\n",
    "df_spy=df_spy.sort_values(\"Date\").dropna()\n"
   ]
  },
  {
   "cell_type": "code",
   "execution_count": 12,
   "id": "5e8dcf0a-3e85-4cd1-bf69-c4f580a13673",
   "metadata": {},
   "outputs": [],
   "source": [
    "df_gme[\"GME_Daily_Return\"]= df_gme[\"close_price\"].pct_change()\n",
    "df_spy[\"SPY_Daily_Return\"]=df_spy[\"Close\"].pct_change()"
   ]
  },
  {
   "cell_type": "code",
   "execution_count": 27,
   "id": "899073c3-53ce-4c1b-bf22-cce9654dcb00",
   "metadata": {},
   "outputs": [
    {
     "name": "stdout",
     "output_type": "stream",
     "text": [
      "GME date range: 2002-02-13 00:00:00 to 2021-01-28 00:00:00\n",
      "SPY date range: 1993-01-29 05:00:00 to 2024-12-30 05:00:00\n",
      "Merged dataset size: 4773\n",
      "GME returns NaN count: 1\n",
      "SPY returns NaN count: 0\n",
      "After dropping NaN: 4772\n",
      "Correlation: 0.2861276732918401\n"
     ]
    }
   ],
   "source": [
    "# Remove timezone info to match dates properly\n",
    "df_gme['date'] = df_gme['date'].dt.tz_localize(None)\n",
    "df_spy['Date'] = df_spy['Date'].dt.tz_localize(None)\n",
    "\n",
    "print(\"GME date range:\", df_gme['date'].min(), \"to\", df_gme['date'].max())\n",
    "print(\"SPY date range:\", df_spy['Date'].min(), \"to\", df_spy['Date'].max())\n",
    "\n",
    "# Merge on date only (ignore time)\n",
    "df_gme['date_only'] = df_gme['date'].dt.date\n",
    "df_spy['date_only'] = df_spy['Date'].dt.date\n",
    "\n",
    "merged = pd.merge(df_gme, df_spy, on='date_only', how='inner')\n",
    "print(f\"Merged dataset size: {len(merged)}\")\n",
    "\n",
    "if len(merged) > 0:\n",
    "    print(\"GME returns NaN count:\", merged['GME_Daily_Return'].isna().sum())\n",
    "    print(\"SPY returns NaN count:\", merged['SPY_Daily_Return'].isna().sum())\n",
    "    \n",
    "    merged = merged.dropna()\n",
    "    print(f\"After dropping NaN: {len(merged)}\")\n",
    "    \n",
    "    correlation = merged['GME_Daily_Return'].corr(merged['SPY_Daily_Return'])\n",
    "    print(f\"Correlation: {correlation}\")\n",
    "else:\n",
    "    correlation = 0\n",
    "    print(\"No common dates found - setting correlation to 0\")"
   ]
  },
  {
   "cell_type": "code",
   "execution_count": 28,
   "id": "45348c5c-f55e-438e-923a-f62fbd6f01eb",
   "metadata": {},
   "outputs": [
    {
     "data": {
      "text/html": [
       "<div>\n",
       "<style scoped>\n",
       "    .dataframe tbody tr th:only-of-type {\n",
       "        vertical-align: middle;\n",
       "    }\n",
       "\n",
       "    .dataframe tbody tr th {\n",
       "        vertical-align: top;\n",
       "    }\n",
       "\n",
       "    .dataframe thead th {\n",
       "        text-align: right;\n",
       "    }\n",
       "</style>\n",
       "<table border=\"1\" class=\"dataframe\">\n",
       "  <thead>\n",
       "    <tr style=\"text-align: right;\">\n",
       "      <th></th>\n",
       "      <th>date</th>\n",
       "      <th>open_price</th>\n",
       "      <th>high_price</th>\n",
       "      <th>low_price</th>\n",
       "      <th>close_price</th>\n",
       "      <th>volume</th>\n",
       "      <th>adjclose_price</th>\n",
       "      <th>GME_Daily_Return</th>\n",
       "      <th>date_only</th>\n",
       "      <th>Date</th>\n",
       "      <th>Open</th>\n",
       "      <th>High</th>\n",
       "      <th>Low</th>\n",
       "      <th>Close</th>\n",
       "      <th>Volume</th>\n",
       "      <th>Dividends</th>\n",
       "      <th>SPY_Daily_Return</th>\n",
       "    </tr>\n",
       "  </thead>\n",
       "  <tbody>\n",
       "    <tr>\n",
       "      <th>1</th>\n",
       "      <td>2002-02-14</td>\n",
       "      <td>10.175</td>\n",
       "      <td>10.195</td>\n",
       "      <td>9.925</td>\n",
       "      <td>10.000</td>\n",
       "      <td>2755400.0</td>\n",
       "      <td>6.733003</td>\n",
       "      <td>-0.004975</td>\n",
       "      <td>2002-02-14</td>\n",
       "      <td>2002-02-14 05:00:00</td>\n",
       "      <td>73.387766</td>\n",
       "      <td>73.687813</td>\n",
       "      <td>72.787667</td>\n",
       "      <td>73.094238</td>\n",
       "      <td>20453800</td>\n",
       "      <td>0.0</td>\n",
       "      <td>-0.001870</td>\n",
       "    </tr>\n",
       "    <tr>\n",
       "      <th>2</th>\n",
       "      <td>2002-02-15</td>\n",
       "      <td>10.000</td>\n",
       "      <td>10.025</td>\n",
       "      <td>9.850</td>\n",
       "      <td>9.950</td>\n",
       "      <td>2097400.0</td>\n",
       "      <td>6.699336</td>\n",
       "      <td>-0.005000</td>\n",
       "      <td>2002-02-15</td>\n",
       "      <td>2002-02-15 05:00:00</td>\n",
       "      <td>73.152972</td>\n",
       "      <td>73.211675</td>\n",
       "      <td>72.213690</td>\n",
       "      <td>72.331100</td>\n",
       "      <td>18366800</td>\n",
       "      <td>0.0</td>\n",
       "      <td>-0.010440</td>\n",
       "    </tr>\n",
       "    <tr>\n",
       "      <th>3</th>\n",
       "      <td>2002-02-19</td>\n",
       "      <td>9.900</td>\n",
       "      <td>9.900</td>\n",
       "      <td>9.375</td>\n",
       "      <td>9.550</td>\n",
       "      <td>1852600.0</td>\n",
       "      <td>6.430017</td>\n",
       "      <td>-0.040201</td>\n",
       "      <td>2002-02-19</td>\n",
       "      <td>2002-02-19 05:00:00</td>\n",
       "      <td>71.848400</td>\n",
       "      <td>71.939719</td>\n",
       "      <td>70.843892</td>\n",
       "      <td>70.941734</td>\n",
       "      <td>15988100</td>\n",
       "      <td>0.0</td>\n",
       "      <td>-0.019208</td>\n",
       "    </tr>\n",
       "    <tr>\n",
       "      <th>4</th>\n",
       "      <td>2002-02-20</td>\n",
       "      <td>9.600</td>\n",
       "      <td>9.875</td>\n",
       "      <td>9.525</td>\n",
       "      <td>9.875</td>\n",
       "      <td>1723200.0</td>\n",
       "      <td>6.648838</td>\n",
       "      <td>0.034031</td>\n",
       "      <td>2002-02-20</td>\n",
       "      <td>2002-02-20 05:00:00</td>\n",
       "      <td>71.130910</td>\n",
       "      <td>72.135414</td>\n",
       "      <td>70.328606</td>\n",
       "      <td>72.135414</td>\n",
       "      <td>29242800</td>\n",
       "      <td>0.0</td>\n",
       "      <td>0.016826</td>\n",
       "    </tr>\n",
       "    <tr>\n",
       "      <th>5</th>\n",
       "      <td>2002-02-21</td>\n",
       "      <td>9.840</td>\n",
       "      <td>9.925</td>\n",
       "      <td>9.750</td>\n",
       "      <td>9.850</td>\n",
       "      <td>1744200.0</td>\n",
       "      <td>6.632006</td>\n",
       "      <td>-0.002532</td>\n",
       "      <td>2002-02-21</td>\n",
       "      <td>2002-02-21 05:00:00</td>\n",
       "      <td>71.704943</td>\n",
       "      <td>72.161536</td>\n",
       "      <td>70.615640</td>\n",
       "      <td>70.641731</td>\n",
       "      <td>26288600</td>\n",
       "      <td>0.0</td>\n",
       "      <td>-0.020707</td>\n",
       "    </tr>\n",
       "  </tbody>\n",
       "</table>\n",
       "</div>"
      ],
      "text/plain": [
       "        date  open_price  high_price  low_price  close_price     volume  \\\n",
       "1 2002-02-14      10.175      10.195      9.925       10.000  2755400.0   \n",
       "2 2002-02-15      10.000      10.025      9.850        9.950  2097400.0   \n",
       "3 2002-02-19       9.900       9.900      9.375        9.550  1852600.0   \n",
       "4 2002-02-20       9.600       9.875      9.525        9.875  1723200.0   \n",
       "5 2002-02-21       9.840       9.925      9.750        9.850  1744200.0   \n",
       "\n",
       "   adjclose_price  GME_Daily_Return   date_only                Date  \\\n",
       "1        6.733003         -0.004975  2002-02-14 2002-02-14 05:00:00   \n",
       "2        6.699336         -0.005000  2002-02-15 2002-02-15 05:00:00   \n",
       "3        6.430017         -0.040201  2002-02-19 2002-02-19 05:00:00   \n",
       "4        6.648838          0.034031  2002-02-20 2002-02-20 05:00:00   \n",
       "5        6.632006         -0.002532  2002-02-21 2002-02-21 05:00:00   \n",
       "\n",
       "        Open       High        Low      Close    Volume  Dividends  \\\n",
       "1  73.387766  73.687813  72.787667  73.094238  20453800        0.0   \n",
       "2  73.152972  73.211675  72.213690  72.331100  18366800        0.0   \n",
       "3  71.848400  71.939719  70.843892  70.941734  15988100        0.0   \n",
       "4  71.130910  72.135414  70.328606  72.135414  29242800        0.0   \n",
       "5  71.704943  72.161536  70.615640  70.641731  26288600        0.0   \n",
       "\n",
       "   SPY_Daily_Return  \n",
       "1         -0.001870  \n",
       "2         -0.010440  \n",
       "3         -0.019208  \n",
       "4          0.016826  \n",
       "5         -0.020707  "
      ]
     },
     "execution_count": 28,
     "metadata": {},
     "output_type": "execute_result"
    }
   ],
   "source": [
    "merged.head()"
   ]
  },
  {
   "cell_type": "code",
   "execution_count": 18,
   "id": "72ab744d-5f4c-4266-90bb-5f2b52844835",
   "metadata": {},
   "outputs": [],
   "source": [
    "correlation=merged[\"GME_Daily_Return\"].corr(merged[\"SPY_Daily_Return\"])"
   ]
  },
  {
   "cell_type": "code",
   "execution_count": 20,
   "id": "7c39202a-b189-4216-970c-60713e476978",
   "metadata": {},
   "outputs": [
    {
     "data": {
      "image/png": "[encoded data removed]",
      "text/plain": [
       "<Figure size 1500x1000 with 4 Axes>"
      ]
     },
     "metadata": {},
     "output_type": "display_data"
    }
   ],
   "source": [
    "plt.figure(figsize=(15,10))\n",
    "\n",
    "plt.subplot(2,2,1)\n",
    "plt.plot(df_gme[\"date\"],df_gme[\"close_price\"],color=\"red\")\n",
    "plt.title(\"GME stock price\")\n",
    "plt.xlabel(\"date%\")\n",
    "plt.ylabel(\"price in $\")\n",
    "plt.grid=(True)\n",
    "\n",
    "plt.subplot(2,2,2)\n",
    "plt.hist(df_gme[\"GME_Daily_Return\"].dropna() *100,bins=50,alpha=0.7,color=\"lightcoral\")\n",
    "plt.title(\"GME Daily Returns distribution\")\n",
    "plt.xlabel(\"daily return %\")\n",
    "plt.ylabel(\"frequency\")\n",
    "plt.grid=(True)\n",
    "\n",
    "plt.subplot(2,2,3)\n",
    "plt.scatter(merged[\"GME_Daily_Return\"] *100,merged[\"SPY_Daily_Return\"] *100,alpha=0.5)\n",
    "plt.title(f'GME vs SPY Returns - correlation: {correlation:.3f}')\n",
    "plt.xlabel(\"GME daily return %\")\n",
    "plt.ylabel(\"SPY daily return %\")\n",
    "plt.grid=(True)\n",
    "\n",
    "plt.subplot(2,2,4)\n",
    "plt.plot(merged[\"date\"],merged[\"GME_Daily_Return\"] *100,label=\"GME\",alpha=0.7)\n",
    "plt.plot(merged[\"date\"],merged[\"SPY_Daily_Return\"] *100,label=\"SPY\",alpha=0.7)\n",
    "plt.title(\"Daily returns comparison\")\n",
    "plt.xlabel(\"Date\")\n",
    "plt.ylabel(\" daily return %\")\n",
    "plt.legend()\n",
    "plt.grid=(True)\n",
    "\n",
    "plt.tight_layout()\n",
    "plt.show()"
   ]
  },
  {
   "cell_type": "code",
   "execution_count": 24,
   "id": "9841e4ae-fca0-4cc0-998d-416ac47051cd",
   "metadata": {},
   "outputs": [
    {
     "name": "stdout",
     "output_type": "stream",
     "text": [
      "=== required statistics ===\n",
      "Mean Closing  Price: $23.19\n",
      "Median Closing  Price: $21.76\n",
      "Standard Deviation Price: $14.51\n",
      "Correlation with s&p 500 : $nan\n"
     ]
    }
   ],
   "source": [
    "mean_close=df_gme[\"close_price\"].mean()\n",
    "median_close=df_gme[\"close_price\"].median()\n",
    "std_close=df_gme[\"close_price\"].std()\n",
    "\n",
    "print(\"=== required statistics ===\")\n",
    "print(f\"Mean Closing  Price: ${mean_close:.2f}\")\n",
    "print(f\"Median Closing  Price: ${median_close:.2f}\")\n",
    "print(f\"Standard Deviation Price: ${std_close:.2f}\")\n",
    "print(f\"Correlation with s&p 500 : ${correlation:.3f}\")"
   ]
  }
 ],
 "metadata": {
  "kernelspec": {
   "display_name": "Python 3 (base)",
   "language": "python",
   "name": "python3"
  },
  "language_info": {
   "codemirror_mode": {
    "name": "ipython",
    "version": 3
   },
   "file_extension": ".py",
   "mimetype": "text/x-python",
   "name": "python",
   "nbconvert_exporter": "python",
   "pygments_lexer": "ipython3",
   "version": "3.12.1"
  }
 },
 "nbformat": 4,
 "nbformat_minor": 5
}
